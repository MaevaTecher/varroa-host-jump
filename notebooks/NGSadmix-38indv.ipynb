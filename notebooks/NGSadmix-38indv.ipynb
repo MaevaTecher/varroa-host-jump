{
 "cells": [
  {
   "cell_type": "code",
   "execution_count": 1,
   "metadata": {
    "collapsed": true
   },
   "outputs": [],
   "source": [
    "##Setting the path for the packages\n",
    "setwd(\"/work/MikheyevU/Maeva/varroa-jump/data/ngsadmix/R\")\n",
    ".libPaths(\"/home/m/maeva-techer/R/x86_64-redhat-linux-gnu-library/3.2\")"
   ]
  },
  {
   "cell_type": "code",
   "execution_count": 3,
   "metadata": {},
   "outputs": [
    {
     "data": {
      "text/html": [
       "<ol class=list-inline>\n",
       "\t<li>'38indv_2.txt'</li>\n",
       "\t<li>'38indv_3.txt'</li>\n",
       "\t<li>'38indv_4.txt'</li>\n",
       "\t<li>'38indv_5.txt'</li>\n",
       "\t<li>'38indv_6.txt'</li>\n",
       "\t<li>'38indv_7.txt'</li>\n",
       "\t<li>'all44_2.txt'</li>\n",
       "\t<li>'all44_3.txt'</li>\n",
       "\t<li>'all44_4.txt'</li>\n",
       "\t<li>'all44_5.txt'</li>\n",
       "\t<li>'all44_6.txt'</li>\n",
       "\t<li>'all44_7.txt'</li>\n",
       "\t<li>'NGSAdmixtest-combined-14022018.pdf'</li>\n",
       "\t<li>'NGSAdmixtest-VDONLY-14022018.pdf'</li>\n",
       "\t<li>'NGSAdmixtest-VJONLY-14022018.pdf'</li>\n",
       "\t<li>'vd_2.txt'</li>\n",
       "\t<li>'vd_3.txt'</li>\n",
       "\t<li>'vd_4.txt'</li>\n",
       "\t<li>'vd_5.txt'</li>\n",
       "\t<li>'vd_6.txt'</li>\n",
       "\t<li>'vd_7.txt'</li>\n",
       "\t<li>'vj_2.txt'</li>\n",
       "\t<li>'vj_3.txt'</li>\n",
       "\t<li>'vj_4.txt'</li>\n",
       "\t<li>'vj_5.txt'</li>\n",
       "\t<li>'vj_6.txt'</li>\n",
       "\t<li>'vj_7.txt'</li>\n",
       "</ol>\n"
      ],
      "text/latex": [
       "\\begin{enumerate*}\n",
       "\\item '38indv\\_2.txt'\n",
       "\\item '38indv\\_3.txt'\n",
       "\\item '38indv\\_4.txt'\n",
       "\\item '38indv\\_5.txt'\n",
       "\\item '38indv\\_6.txt'\n",
       "\\item '38indv\\_7.txt'\n",
       "\\item 'all44\\_2.txt'\n",
       "\\item 'all44\\_3.txt'\n",
       "\\item 'all44\\_4.txt'\n",
       "\\item 'all44\\_5.txt'\n",
       "\\item 'all44\\_6.txt'\n",
       "\\item 'all44\\_7.txt'\n",
       "\\item 'NGSAdmixtest-combined-14022018.pdf'\n",
       "\\item 'NGSAdmixtest-VDONLY-14022018.pdf'\n",
       "\\item 'NGSAdmixtest-VJONLY-14022018.pdf'\n",
       "\\item 'vd\\_2.txt'\n",
       "\\item 'vd\\_3.txt'\n",
       "\\item 'vd\\_4.txt'\n",
       "\\item 'vd\\_5.txt'\n",
       "\\item 'vd\\_6.txt'\n",
       "\\item 'vd\\_7.txt'\n",
       "\\item 'vj\\_2.txt'\n",
       "\\item 'vj\\_3.txt'\n",
       "\\item 'vj\\_4.txt'\n",
       "\\item 'vj\\_5.txt'\n",
       "\\item 'vj\\_6.txt'\n",
       "\\item 'vj\\_7.txt'\n",
       "\\end{enumerate*}\n"
      ],
      "text/markdown": [
       "1. '38indv_2.txt'\n",
       "2. '38indv_3.txt'\n",
       "3. '38indv_4.txt'\n",
       "4. '38indv_5.txt'\n",
       "5. '38indv_6.txt'\n",
       "6. '38indv_7.txt'\n",
       "7. 'all44_2.txt'\n",
       "8. 'all44_3.txt'\n",
       "9. 'all44_4.txt'\n",
       "10. 'all44_5.txt'\n",
       "11. 'all44_6.txt'\n",
       "12. 'all44_7.txt'\n",
       "13. 'NGSAdmixtest-combined-14022018.pdf'\n",
       "14. 'NGSAdmixtest-VDONLY-14022018.pdf'\n",
       "15. 'NGSAdmixtest-VJONLY-14022018.pdf'\n",
       "16. 'vd_2.txt'\n",
       "17. 'vd_3.txt'\n",
       "18. 'vd_4.txt'\n",
       "19. 'vd_5.txt'\n",
       "20. 'vd_6.txt'\n",
       "21. 'vd_7.txt'\n",
       "22. 'vj_2.txt'\n",
       "23. 'vj_3.txt'\n",
       "24. 'vj_4.txt'\n",
       "25. 'vj_5.txt'\n",
       "26. 'vj_6.txt'\n",
       "27. 'vj_7.txt'\n",
       "\n",
       "\n"
      ],
      "text/plain": [
       " [1] \"38indv_2.txt\"                       \"38indv_3.txt\"                      \n",
       " [3] \"38indv_4.txt\"                       \"38indv_5.txt\"                      \n",
       " [5] \"38indv_6.txt\"                       \"38indv_7.txt\"                      \n",
       " [7] \"all44_2.txt\"                        \"all44_3.txt\"                       \n",
       " [9] \"all44_4.txt\"                        \"all44_5.txt\"                       \n",
       "[11] \"all44_6.txt\"                        \"all44_7.txt\"                       \n",
       "[13] \"NGSAdmixtest-combined-14022018.pdf\" \"NGSAdmixtest-VDONLY-14022018.pdf\"  \n",
       "[15] \"NGSAdmixtest-VJONLY-14022018.pdf\"   \"vd_2.txt\"                          \n",
       "[17] \"vd_3.txt\"                           \"vd_4.txt\"                          \n",
       "[19] \"vd_5.txt\"                           \"vd_6.txt\"                          \n",
       "[21] \"vd_7.txt\"                           \"vj_2.txt\"                          \n",
       "[23] \"vj_3.txt\"                           \"vj_4.txt\"                          \n",
       "[25] \"vj_5.txt\"                           \"vj_6.txt\"                          \n",
       "[27] \"vj_7.txt\"                          "
      ]
     },
     "metadata": {},
     "output_type": "display_data"
    }
   ],
   "source": [
    "dir()"
   ]
  },
  {
   "cell_type": "code",
   "execution_count": 4,
   "metadata": {},
   "outputs": [
    {
     "data": {
      "image/png": "[encoded data removed]",
      "text/plain": [
       "plot without title"
      ]
     },
     "metadata": {},
     "output_type": "display_data"
    }
   ],
   "source": [
    "admix2<-t(as.matrix(read.table(\"38indv_2.txt\")))\n",
    "barplot(admix2, col=c(\"red2\", \"blue3\"),space=0,border= TRUE,xlab=\"Individuals\",ylab=\"admixture\")"
   ]
  },
  {
   "cell_type": "code",
   "execution_count": null,
   "metadata": {
    "collapsed": true
   },
   "outputs": [],
   "source": []
  }
 ],
 "metadata": {
  "kernelspec": {
   "display_name": "R",
   "language": "R",
   "name": "ir"
  },
  "language_info": {
   "codemirror_mode": "r",
   "file_extension": ".r",
   "mimetype": "text/x-r-source",
   "name": "R",
   "pygments_lexer": "r",
   "version": "3.3.2"
  }
 },
 "nbformat": 4,
 "nbformat_minor": 2
}
